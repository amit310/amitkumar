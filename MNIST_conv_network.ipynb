{
  "nbformat": 4,
  "nbformat_minor": 0,
  "metadata": {
    "colab": {
      "name": "MNIST  conv-network.ipynb",
      "provenance": [],
      "authorship_tag": "ABX9TyMEdBj/vyiz8FrwWaEUii+g",
      "include_colab_link": true
    },
    "kernelspec": {
      "name": "python3",
      "display_name": "Python 3"
    }
  },
  "cells": [
    {
      "cell_type": "markdown",
      "metadata": {
        "id": "view-in-github",
        "colab_type": "text"
      },
      "source": [
        "<a href=\"https://colab.research.google.com/github/amit310/amitkumar/blob/master/MNIST_conv_network.ipynb\" target=\"_parent\"><img src=\"https://colab.research.google.com/assets/colab-badge.svg\" alt=\"Open In Colab\"/></a>"
      ]
    },
    {
      "cell_type": "code",
      "metadata": {
        "id": "JhzmBGR-tWSF",
        "colab_type": "code",
        "outputId": "05a4806f-5a63-4a1c-d5d0-186c4a9efabc",
        "colab": {
          "base_uri": "https://localhost:8080/",
          "height": 50
        }
      },
      "source": [
        "#importing libraries for MNIST convolution network\n",
        "import pandas as pd\n",
        "import tensorflow as tf\n",
        "from tensorflow import keras\n",
        "import numpy as np\n",
        "from tensorflow.keras import layers\n",
        "print(tf.__version__)"
      ],
      "execution_count": 66,
      "outputs": [
        {
          "output_type": "stream",
          "text": [
            "2.2.0\n"
          ],
          "name": "stdout"
        }
      ]
    },
    {
      "cell_type": "code",
      "metadata": {
        "id": "WujjpDb8D0zT",
        "colab_type": "code",
        "colab": {}
      },
      "source": [
        "#prepare the data\n",
        "#model/data parameteres\n",
        "\n",
        "num_classes=10\n",
        "input_shape=(28,28,1)\n",
        "#laod and split the MNIST dataset from keras\n",
        "(x_train,y_train),(x_test,y_test)=keras.datasets.mnist.load_data()"
      ],
      "execution_count": 0,
      "outputs": []
    },
    {
      "cell_type": "code",
      "metadata": {
        "id": "TTJ9PDOtD1Bv",
        "colab_type": "code",
        "colab": {
          "base_uri": "https://localhost:8080/",
          "height": 50
        },
        "outputId": "ee20b421-afc6-45fe-ba8d-01a3ee003325"
      },
      "source": [
        "x_train.shape,x_test.shape"
      ],
      "execution_count": 38,
      "outputs": [
        {
          "output_type": "execute_result",
          "data": {
            "text/plain": [
              "((60000, 28, 28), (10000, 28, 28))"
            ]
          },
          "metadata": {
            "tags": []
          },
          "execution_count": 38
        }
      ]
    },
    {
      "cell_type": "code",
      "metadata": {
        "id": "h2_zlGhESGwl",
        "colab_type": "code",
        "colab": {}
      },
      "source": [
        "x_train"
      ],
      "execution_count": 0,
      "outputs": []
    },
    {
      "cell_type": "code",
      "metadata": {
        "id": "8ZhkLMYjD1NN",
        "colab_type": "code",
        "colab": {}
      },
      "source": [
        "#scale images to the[0,1] range\n",
        "x_train=x_train.astype(\"float32\")/255\n",
        "x_test=x_test.astype(\"float32\")/255"
      ],
      "execution_count": 0,
      "outputs": []
    },
    {
      "cell_type": "code",
      "metadata": {
        "id": "gQJq_aBHIHWC",
        "colab_type": "code",
        "colab": {
          "base_uri": "https://localhost:8080/",
          "height": 50
        },
        "outputId": "6f17bcd6-8c3a-4fe7-97a1-72b7c522dcb7"
      },
      "source": [
        "x_train.shape,x_test.shape"
      ],
      "execution_count": 44,
      "outputs": [
        {
          "output_type": "execute_result",
          "data": {
            "text/plain": [
              "((60000, 28, 28, 1), (10000, 28, 28))"
            ]
          },
          "metadata": {
            "tags": []
          },
          "execution_count": 44
        }
      ]
    },
    {
      "cell_type": "code",
      "metadata": {
        "id": "CPF3QJvGV028",
        "colab_type": "code",
        "colab": {}
      },
      "source": [
        "#reshaping the numpy data to 3 dimensial data"
      ],
      "execution_count": 0,
      "outputs": []
    },
    {
      "cell_type": "code",
      "metadata": {
        "id": "ltCD9gEHD1RO",
        "colab_type": "code",
        "colab": {
          "base_uri": "https://localhost:8080/",
          "height": 50
        },
        "outputId": "344e93cf-7683-4408-8f55-feec116ddf24"
      },
      "source": [
        "x_train=x_train.reshape((60000,28,28,1))\n",
        "x_train.shape"
      ],
      "execution_count": 43,
      "outputs": [
        {
          "output_type": "execute_result",
          "data": {
            "text/plain": [
              "(60000, 28, 28, 1)"
            ]
          },
          "metadata": {
            "tags": []
          },
          "execution_count": 43
        }
      ]
    },
    {
      "cell_type": "code",
      "metadata": {
        "id": "hnc1C3r9NbLY",
        "colab_type": "code",
        "colab": {
          "base_uri": "https://localhost:8080/",
          "height": 50
        },
        "outputId": "9e47b7cb-50a7-4c59-fb85-33242a8f7795"
      },
      "source": [
        "x_test=x_test.reshape((10000,28,28,1))\n",
        "x_test.shape"
      ],
      "execution_count": 51,
      "outputs": [
        {
          "output_type": "execute_result",
          "data": {
            "text/plain": [
              "(10000, 28, 28, 1)"
            ]
          },
          "metadata": {
            "tags": []
          },
          "execution_count": 51
        }
      ]
    },
    {
      "cell_type": "code",
      "metadata": {
        "id": "hBQTqttwD1UQ",
        "colab_type": "code",
        "colab": {
          "base_uri": "https://localhost:8080/",
          "height": 50
        },
        "outputId": "0d8b0396-ae66-4e36-ad80-42b900b62177"
      },
      "source": [
        "x_train.shape[0]#total training samples"
      ],
      "execution_count": 19,
      "outputs": [
        {
          "output_type": "execute_result",
          "data": {
            "text/plain": [
              "60000"
            ]
          },
          "metadata": {
            "tags": []
          },
          "execution_count": 19
        }
      ]
    },
    {
      "cell_type": "code",
      "metadata": {
        "id": "wp5r_PACD1XY",
        "colab_type": "code",
        "colab": {}
      },
      "source": [
        "#convert class vectors into binary class metrics\n",
        "y_train=keras.utils.to_categorical(y_train,num_classes)\n",
        "y_test=keras.utils.to_categorical(y_test,num_classes)\n"
      ],
      "execution_count": 0,
      "outputs": []
    },
    {
      "cell_type": "code",
      "metadata": {
        "id": "po-ihdV2D1a0",
        "colab_type": "code",
        "colab": {}
      },
      "source": [
        "#build the model\n",
        "model=keras.Sequential(\n",
        "    [\n",
        "     keras.Input(shape=input_shape),\n",
        "     layers.Conv2D(32,kernel_size=(3,3),activation=\"relu\"),\n",
        "     layers.MaxPooling2D(pool_size=(2,2)),\n",
        "     \n",
        "     layers.Conv2D(64,kernel_size=(3,3),activation=\"relu\"),\n",
        "     layers.MaxPooling2D(pool_size=(2,2)),\n",
        "\n",
        "     layers.Flatten(),\n",
        "     layers.Dropout(0.5),\n",
        "\n",
        "     layers.Dense(num_classes,activation=\"softmax\"),\n",
        "     \n",
        "    ]\n",
        ")"
      ],
      "execution_count": 0,
      "outputs": []
    },
    {
      "cell_type": "code",
      "metadata": {
        "id": "1YVteoO1JVKb",
        "colab_type": "code",
        "colab": {
          "base_uri": "https://localhost:8080/",
          "height": 400
        },
        "outputId": "828925f3-2526-467b-dfb9-6cd61233587f"
      },
      "source": [
        "model.summary()"
      ],
      "execution_count": 55,
      "outputs": [
        {
          "output_type": "stream",
          "text": [
            "Model: \"sequential_1\"\n",
            "_________________________________________________________________\n",
            "Layer (type)                 Output Shape              Param #   \n",
            "=================================================================\n",
            "conv2d_2 (Conv2D)            (None, 26, 26, 32)        320       \n",
            "_________________________________________________________________\n",
            "max_pooling2d_2 (MaxPooling2 (None, 13, 13, 32)        0         \n",
            "_________________________________________________________________\n",
            "conv2d_3 (Conv2D)            (None, 11, 11, 64)        18496     \n",
            "_________________________________________________________________\n",
            "max_pooling2d_3 (MaxPooling2 (None, 5, 5, 64)          0         \n",
            "_________________________________________________________________\n",
            "flatten_1 (Flatten)          (None, 1600)              0         \n",
            "_________________________________________________________________\n",
            "dropout_1 (Dropout)          (None, 1600)              0         \n",
            "_________________________________________________________________\n",
            "dense_1 (Dense)              (None, 10)                16010     \n",
            "=================================================================\n",
            "Total params: 34,826\n",
            "Trainable params: 34,826\n",
            "Non-trainable params: 0\n",
            "_________________________________________________________________\n"
          ],
          "name": "stdout"
        }
      ]
    },
    {
      "cell_type": "code",
      "metadata": {
        "id": "VZw4_BaKKklb",
        "colab_type": "code",
        "colab": {}
      },
      "source": [
        "#train the model\n",
        "\n",
        "model.compile(loss=\"categorical_crossentropy\",optimizer=\"adam\",metrics=[\"accuracy\"])"
      ],
      "execution_count": 0,
      "outputs": []
    },
    {
      "cell_type": "code",
      "metadata": {
        "id": "X1zz-H5dKk2O",
        "colab_type": "code",
        "colab": {
          "base_uri": "https://localhost:8080/",
          "height": 550
        },
        "outputId": "a2580990-3948-4445-819f-6c285f4e5a45"
      },
      "source": [
        "\n",
        "model.fit(x_train,y_train,batch_size=128,epochs=15,validation_split=0.1)"
      ],
      "execution_count": 58,
      "outputs": [
        {
          "output_type": "stream",
          "text": [
            "Epoch 1/15\n",
            "422/422 [==============================] - 36s 86ms/step - loss: 0.3581 - accuracy: 0.8896 - val_loss: 0.0850 - val_accuracy: 0.9758\n",
            "Epoch 2/15\n",
            "422/422 [==============================] - 37s 87ms/step - loss: 0.1086 - accuracy: 0.9666 - val_loss: 0.0565 - val_accuracy: 0.9868\n",
            "Epoch 3/15\n",
            "422/422 [==============================] - 36s 86ms/step - loss: 0.0849 - accuracy: 0.9740 - val_loss: 0.0488 - val_accuracy: 0.9882\n",
            "Epoch 4/15\n",
            "422/422 [==============================] - 36s 85ms/step - loss: 0.0707 - accuracy: 0.9783 - val_loss: 0.0445 - val_accuracy: 0.9873\n",
            "Epoch 5/15\n",
            "422/422 [==============================] - 36s 86ms/step - loss: 0.0621 - accuracy: 0.9809 - val_loss: 0.0382 - val_accuracy: 0.9898\n",
            "Epoch 6/15\n",
            "422/422 [==============================] - 36s 86ms/step - loss: 0.0555 - accuracy: 0.9829 - val_loss: 0.0356 - val_accuracy: 0.9903\n",
            "Epoch 7/15\n",
            "422/422 [==============================] - 36s 85ms/step - loss: 0.0515 - accuracy: 0.9839 - val_loss: 0.0356 - val_accuracy: 0.9907\n",
            "Epoch 8/15\n",
            "422/422 [==============================] - 36s 86ms/step - loss: 0.0461 - accuracy: 0.9861 - val_loss: 0.0342 - val_accuracy: 0.9910\n",
            "Epoch 9/15\n",
            "422/422 [==============================] - 36s 86ms/step - loss: 0.0452 - accuracy: 0.9859 - val_loss: 0.0348 - val_accuracy: 0.9915\n",
            "Epoch 10/15\n",
            "422/422 [==============================] - 36s 85ms/step - loss: 0.0430 - accuracy: 0.9863 - val_loss: 0.0316 - val_accuracy: 0.9915\n",
            "Epoch 11/15\n",
            "422/422 [==============================] - 36s 85ms/step - loss: 0.0401 - accuracy: 0.9872 - val_loss: 0.0294 - val_accuracy: 0.9927\n",
            "Epoch 12/15\n",
            "422/422 [==============================] - 36s 85ms/step - loss: 0.0380 - accuracy: 0.9877 - val_loss: 0.0308 - val_accuracy: 0.9913\n",
            "Epoch 13/15\n",
            "422/422 [==============================] - 35s 84ms/step - loss: 0.0367 - accuracy: 0.9882 - val_loss: 0.0306 - val_accuracy: 0.9922\n",
            "Epoch 14/15\n",
            "422/422 [==============================] - 36s 85ms/step - loss: 0.0352 - accuracy: 0.9883 - val_loss: 0.0312 - val_accuracy: 0.9912\n",
            "Epoch 15/15\n",
            "422/422 [==============================] - 36s 85ms/step - loss: 0.0336 - accuracy: 0.9890 - val_loss: 0.0309 - val_accuracy: 0.9923\n"
          ],
          "name": "stdout"
        },
        {
          "output_type": "execute_result",
          "data": {
            "text/plain": [
              "<tensorflow.python.keras.callbacks.History at 0x7f8b46ad4198>"
            ]
          },
          "metadata": {
            "tags": []
          },
          "execution_count": 58
        }
      ]
    },
    {
      "cell_type": "code",
      "metadata": {
        "id": "0O0u_UqtKk8z",
        "colab_type": "code",
        "colab": {
          "base_uri": "https://localhost:8080/",
          "height": 67
        },
        "outputId": "82649f1c-902c-43dc-c2b8-d8bf3551d349"
      },
      "source": [
        "#evaluate the trained model\n",
        "\n",
        "score=model.evaluate(x_test,y_test,verbose=0)\n",
        "print(\"Test loss of the model is:\",score[0])\n",
        "print(\"Test Accuracy of the model is:\",score[1])\n"
      ],
      "execution_count": 59,
      "outputs": [
        {
          "output_type": "stream",
          "text": [
            "Test loss of the model is: 0.02663245238363743\n",
            "Test Accuracy of the model is: 0.991599977016449\n"
          ],
          "name": "stdout"
        }
      ]
    },
    {
      "cell_type": "code",
      "metadata": {
        "id": "aOxRxFoRKk_f",
        "colab_type": "code",
        "colab": {
          "base_uri": "https://localhost:8080/",
          "height": 50
        },
        "outputId": "948481ca-9fef-4d1d-8822-d2f3207fc758"
      },
      "source": [
        "pred=model.predict_classes(x_test)\n",
        "pred"
      ],
      "execution_count": 63,
      "outputs": [
        {
          "output_type": "execute_result",
          "data": {
            "text/plain": [
              "array([7, 2, 1, ..., 4, 5, 6])"
            ]
          },
          "metadata": {
            "tags": []
          },
          "execution_count": 63
        }
      ]
    },
    {
      "cell_type": "code",
      "metadata": {
        "id": "asERkWVoKlEs",
        "colab_type": "code",
        "colab": {}
      },
      "source": [
        "# CNN model can classify the hand written dataset of 60,0000 train samples and 10,000 test samples with accuracy 99%."
      ],
      "execution_count": 0,
      "outputs": []
    },
    {
      "cell_type": "code",
      "metadata": {
        "id": "DtB8pJx7KlHJ",
        "colab_type": "code",
        "colab": {}
      },
      "source": [
        ""
      ],
      "execution_count": 0,
      "outputs": []
    },
    {
      "cell_type": "code",
      "metadata": {
        "id": "Tgu4yCIwKlKf",
        "colab_type": "code",
        "colab": {}
      },
      "source": [
        ""
      ],
      "execution_count": 0,
      "outputs": []
    },
    {
      "cell_type": "code",
      "metadata": {
        "id": "mkxl07u0KlT-",
        "colab_type": "code",
        "colab": {}
      },
      "source": [
        ""
      ],
      "execution_count": 0,
      "outputs": []
    },
    {
      "cell_type": "code",
      "metadata": {
        "id": "fB9i_-YeJVTR",
        "colab_type": "code",
        "colab": {}
      },
      "source": [
        ""
      ],
      "execution_count": 0,
      "outputs": []
    },
    {
      "cell_type": "code",
      "metadata": {
        "id": "HbsJi9LlJVVv",
        "colab_type": "code",
        "colab": {}
      },
      "source": [
        ""
      ],
      "execution_count": 0,
      "outputs": []
    },
    {
      "cell_type": "code",
      "metadata": {
        "id": "2oiBQMhJJVYK",
        "colab_type": "code",
        "colab": {}
      },
      "source": [
        ""
      ],
      "execution_count": 0,
      "outputs": []
    },
    {
      "cell_type": "code",
      "metadata": {
        "id": "y0WBB1QiJVbp",
        "colab_type": "code",
        "colab": {}
      },
      "source": [
        ""
      ],
      "execution_count": 0,
      "outputs": []
    },
    {
      "cell_type": "code",
      "metadata": {
        "id": "zcY_K170D1eh",
        "colab_type": "code",
        "colab": {}
      },
      "source": [
        ""
      ],
      "execution_count": 0,
      "outputs": []
    },
    {
      "cell_type": "code",
      "metadata": {
        "id": "VPpU3SJqD1iX",
        "colab_type": "code",
        "colab": {}
      },
      "source": [
        ""
      ],
      "execution_count": 0,
      "outputs": []
    }
  ]
}